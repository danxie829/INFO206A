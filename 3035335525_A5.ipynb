{
 "cells": [
  {
   "cell_type": "code",
   "execution_count": 23,
   "metadata": {},
   "outputs": [
    {
     "name": "stdout",
     "output_type": "stream",
     "text": [
      "133lines; 1324words; 6700characters.\n"
     ]
    }
   ],
   "source": [
    "def readtext(A): #define the function\n",
    "    file = open(A, \"r\") #open the file\n",
    "    number_of_lines=0 #number of lines starts from 0\n",
    "    number_of_words=0 #number of words starts from 0\n",
    "    number_of_characters=0 #number of characters starts from 0\n",
    "    \n",
    "    for line in file: #for each line in the file\n",
    "        \n",
    "        lines=line.strip(\"\\n\") #get rid of the new line whitespace\n",
    "        words=lines.split() #generate a list of all of the words in that line\n",
    "        characters=lines.replace(\" \",\"\") #get rid of whitespace in that line\n",
    "        \n",
    "        number_of_lines +=1 #count 1 for each line \n",
    "        number_of_words += len(words) #add the number of words in that line\n",
    "        number_of_characters += len(characters) #add the number of characters in that line\n",
    "    \n",
    "    file.close() #close the file\n",
    "    return(number_of_lines,number_of_words,number_of_characters) #return the value we want\n",
    "\n",
    "(numl,numw,numc)=readtext(\"DOI.txt\")\n",
    "print(str(numl)+\"lines; \"+str(numw)+\"words; \"+str(numc)+\"characters.\")"
   ]
  },
  {
   "cell_type": "code",
   "execution_count": null,
   "metadata": {},
   "outputs": [],
   "source": []
  }
 ],
 "metadata": {
  "kernelspec": {
   "display_name": "Python 3",
   "language": "python",
   "name": "python3"
  },
  "language_info": {
   "codemirror_mode": {
    "name": "ipython",
    "version": 3
   },
   "file_extension": ".py",
   "mimetype": "text/x-python",
   "name": "python",
   "nbconvert_exporter": "python",
   "pygments_lexer": "ipython3",
   "version": "3.7.4"
  }
 },
 "nbformat": 4,
 "nbformat_minor": 2
}
