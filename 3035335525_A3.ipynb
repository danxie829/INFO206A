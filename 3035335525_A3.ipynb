{
 "cells": [
  {
   "cell_type": "code",
   "execution_count": 15,
   "metadata": {},
   "outputs": [
    {
     "data": {
      "image/svg+xml": [
       "<?xml version=\"1.0\" encoding=\"UTF-8\"?>\n",
       "<svg xmlns=\"http://www.w3.org/2000/svg\" xmlns:xlink=\"http://www.w3.org/1999/xlink\"\n",
       "     width=\"500\" height=\"500\" viewBox=\"-250.0 -250.0 500 500\">\n",
       "<defs>\n",
       "</defs>\n",
       "<path d=\"M-200,-200 L-160,20\" stroke=\"red\" stroke-width=\"2\" fill=\"none\" />\n",
       "<path d=\"M240,0 L160,200\" stroke=\"red\" stroke-width=\"2\" fill=\"none\" />\n",
       "<path d=\"M-200,-200 L160,200\" stroke=\"#000000\" stroke-width=\"2\" fill=\"none\" />\n",
       "<path d=\"M-198.6206896551724,-192.41379310344828 L162.75862068965517,193.10344827586206\" stroke=\"#020706\" stroke-width=\"2\" fill=\"none\" />\n",
       "<path d=\"M-197.24137931034483,-184.82758620689654 L165.51724137931035,186.20689655172413\" stroke=\"#050f0c\" stroke-width=\"2\" fill=\"none\" />\n",
       "<path d=\"M-195.86206896551724,-177.24137931034483 L168.27586206896552,179.31034482758622\" stroke=\"#081612\" stroke-width=\"2\" fill=\"none\" />\n",
       "<path d=\"M-194.48275862068965,-169.6551724137931 L171.0344827586207,172.41379310344826\" stroke=\"#0b1e18\" stroke-width=\"2\" fill=\"none\" />\n",
       "<path d=\"M-193.10344827586206,-162.06896551724137 L173.79310344827587,165.51724137931035\" stroke=\"#0d251e\" stroke-width=\"2\" fill=\"none\" />\n",
       "<path d=\"M-191.72413793103448,-154.48275862068965 L176.55172413793105,158.6206896551724\" stroke=\"#102d25\" stroke-width=\"2\" fill=\"none\" />\n",
       "<path d=\"M-190.3448275862069,-146.8965517241379 L179.31034482758622,151.72413793103448\" stroke=\"#13352b\" stroke-width=\"2\" fill=\"none\" />\n",
       "<path d=\"M-188.9655172413793,-139.3103448275862 L182.0689655172414,144.82758620689654\" stroke=\"#163c31\" stroke-width=\"2\" fill=\"none\" />\n",
       "<path d=\"M-187.58620689655172,-131.72413793103448 L184.82758620689657,137.9310344827586\" stroke=\"#194437\" stroke-width=\"2\" fill=\"none\" />\n",
       "<path d=\"M-186.20689655172413,-124.13793103448275 L187.58620689655174,131.0344827586207\" stroke=\"#1b4b3d\" stroke-width=\"2\" fill=\"none\" />\n",
       "<path d=\"M-184.82758620689654,-116.55172413793102 L190.34482758620692,124.13793103448273\" stroke=\"#1e5343\" stroke-width=\"2\" fill=\"none\" />\n",
       "<path d=\"M-183.44827586206895,-108.96551724137929 L193.1034482758621,117.2413793103448\" stroke=\"#215b4a\" stroke-width=\"2\" fill=\"none\" />\n",
       "<path d=\"M-182.06896551724137,-101.37931034482756 L195.86206896551727,110.34482758620688\" stroke=\"#246250\" stroke-width=\"2\" fill=\"none\" />\n",
       "<path d=\"M-180.68965517241378,-93.79310344827583 L198.6206896551724,103.44827586206895\" stroke=\"#276a56\" stroke-width=\"2\" fill=\"none\" />\n",
       "<path d=\"M-179.3103448275862,-86.2068965517241 L201.37931034482762,96.551724137931\" stroke=\"#29715c\" stroke-width=\"2\" fill=\"none\" />\n",
       "<path d=\"M-177.9310344827586,-78.62068965517238 L204.13793103448276,89.65517241379308\" stroke=\"#2c7962\" stroke-width=\"2\" fill=\"none\" />\n",
       "<path d=\"M-176.55172413793105,-71.03448275862067 L206.89655172413794,82.75862068965516\" stroke=\"#2f8068\" stroke-width=\"2\" fill=\"none\" />\n",
       "<path d=\"M-175.17241379310346,-63.448275862068954 L209.6551724137931,75.86206896551724\" stroke=\"#32886f\" stroke-width=\"2\" fill=\"none\" />\n",
       "<path d=\"M-173.79310344827587,-55.86206896551724 L212.41379310344828,68.96551724137932\" stroke=\"#359075\" stroke-width=\"2\" fill=\"none\" />\n",
       "<path d=\"M-172.41379310344828,-48.27586206896552 L215.17241379310343,62.068965517241395\" stroke=\"#37977b\" stroke-width=\"2\" fill=\"none\" />\n",
       "<path d=\"M-171.0344827586207,-40.68965517241381 L217.9310344827586,55.17241379310347\" stroke=\"#3a9f81\" stroke-width=\"2\" fill=\"none\" />\n",
       "<path d=\"M-169.6551724137931,-33.10344827586209 L220.68965517241378,48.275862068965544\" stroke=\"#3da687\" stroke-width=\"2\" fill=\"none\" />\n",
       "<path d=\"M-168.27586206896552,-25.517241379310377 L223.44827586206895,41.37931034482762\" stroke=\"#40ae8d\" stroke-width=\"2\" fill=\"none\" />\n",
       "<path d=\"M-166.89655172413794,-17.931034482758662 L226.20689655172413,34.4827586206897\" stroke=\"#43b694\" stroke-width=\"2\" fill=\"none\" />\n",
       "<path d=\"M-165.51724137931035,-10.344827586206947 L228.9655172413793,27.58620689655178\" stroke=\"#45bd9a\" stroke-width=\"2\" fill=\"none\" />\n",
       "<path d=\"M-164.13793103448276,-2.758620689655231 L231.72413793103445,20.689655172413858\" stroke=\"#48c5a0\" stroke-width=\"2\" fill=\"none\" />\n",
       "<path d=\"M-162.75862068965517,4.827586206896484 L234.48275862068962,13.793103448275934\" stroke=\"#4bcca6\" stroke-width=\"2\" fill=\"none\" />\n",
       "<path d=\"M-161.37931034482762,12.4137931034482 L237.2413793103448,6.896551724138011\" stroke=\"#4ed4ac\" stroke-width=\"2\" fill=\"none\" />\n",
       "<path d=\"M-160.0,19.999999999999915 L239.99999999999997,8.881784197001252e-14\" stroke=\"#50dbb2\" stroke-width=\"2\" fill=\"none\" />\n",
       "</svg>"
      ],
      "text/plain": [
       "<drawSvg.drawing.Drawing at 0x7fa7b7aefcd0>"
      ]
     },
     "execution_count": 15,
     "metadata": {},
     "output_type": "execute_result"
    }
   ],
   "source": [
    "import drawSvg as draw\n",
    "\n",
    "#define a function with variables of cooridnates and the number of strings\n",
    "def string_art(x1a,y1a,x2a,y2a,x1b,y1b,x2b,y2b,n):\n",
    "    d=draw.Drawing(500,500,origin=\"center\")#draw the canvas\n",
    "    stickA=draw.Line(x1a,y1a,x2a,y2a,\n",
    "                    stroke=\"red\",stroke_width=2,fill=\"none\")#draw stick A\n",
    "    stickB=draw.Line(x1b,y1b,x2b,y2b,\n",
    "                    stroke='red',stroke_width=2,fill='none')#draw stick B\n",
    "    d.append(stickA) #append stick A to the canvas\n",
    "    d.append(stickB) #append stick A to the canvas\n",
    "    f=0 #the fraction starts from 0\n",
    "    while(f<=1):\n",
    "        color='#%02x%02x%02x' % (int(f*81),int(f*220),int(f*179)) #convert RGB color to HEXcolor\n",
    "        string_line=draw.Line(x1a+f*(x2a-x1a),y1a+f*(y2a-y1a),x1b+(1-f)*(x2b-x1b),y1b+(1-f)*(y2b-y1b),\n",
    "                             stroke=color,stroke_width=2,fill=\"none\") #draw a string with a defined f\n",
    "        d.append(string_line) #append the string to the canvas\n",
    "        f=f+1/(n-1) #increse the fraction by one \n",
    "    return d\n",
    "\n",
    "string_art(-200,200,-160,-20,240,0,160,-200,30)"
   ]
  },
  {
   "cell_type": "markdown",
   "metadata": {},
   "source": [
    "Reference:https://www.rapidtables.com/web/color/RGB_Color.html"
   ]
  }
 ],
 "metadata": {
  "kernelspec": {
   "display_name": "Python 3",
   "language": "python",
   "name": "python3"
  },
  "language_info": {
   "codemirror_mode": {
    "name": "ipython",
    "version": 3
   },
   "file_extension": ".py",
   "mimetype": "text/x-python",
   "name": "python",
   "nbconvert_exporter": "python",
   "pygments_lexer": "ipython3",
   "version": "3.7.4"
  }
 },
 "nbformat": 4,
 "nbformat_minor": 2
}
