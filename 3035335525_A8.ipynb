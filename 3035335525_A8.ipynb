{
 "cells": [
  {
   "cell_type": "code",
   "execution_count": 1,
   "metadata": {},
   "outputs": [],
   "source": [
    "import drawSvg as draw\n",
    "import math\n",
    "\n",
    "class Body:\n",
    "    def __init__(self, mass, x,y, vx,vy, pixel_radius,r,g,b): #build the constructor\n",
    "        self.mass=mass\n",
    "        self.x=x\n",
    "        self.y=y\n",
    "        self.vx=vx\n",
    "        self.vy=vy\n",
    "        self.radius=pixel_radius \n",
    "        self.color='#%02x%02x%02x' % (r,g,b)\n",
    "        \n",
    "    def update_velocity(self, ax, ay, timestep): #update the velocity of the body\n",
    "        self.vx=ax*timestep+self.vx\n",
    "        self.vy=ay*timestep+self.vy\n",
    "        \n",
    "    def update_position(self, timestep): #update the positon of the body based on updated velocity\n",
    "        self.x=self.x+timestep*self.vx\n",
    "        self.y=self.y+timestep*self.vy\n",
    "    \n",
    "    def draw(self, pixels_per_meter): #draw the body\n",
    "        self.pixel_x=self.x*pixels_per_meter\n",
    "        self.pixle_y=self.y*pixels_per_meter\n",
    "        D.append(draw.Circle(self.pixel_x,self.pixle_y,self.radius,fill = self.color))\n",
    "\n"
   ]
  },
  {
   "cell_type": "code",
   "execution_count": 2,
   "metadata": {},
   "outputs": [],
   "source": [
    "class System:\n",
    "    def __init__(self, body_list): #build the constructor \n",
    "        self.body_list=body_list\n",
    "    \n",
    "    def compute_acceleration(self,n): #calculate the accumulated acceleartion in the x direction and y direction\n",
    "        ax=0 #start ax from 0\n",
    "        ay=0 #start ay from 0\n",
    "        G=6.67384e-11\n",
    "        for i in range(len(self.body_list)):\n",
    "            if i != n:\n",
    "                dx=self.body_list[i].x-self.body_list[n].x #compute the distance in x\n",
    "                dy=self.body_list[i].y-self.body_list[n].y #compute the distance in y\n",
    "                distance=math.sqrt(dx**2+dy**2) #compute the total distance\n",
    "                a=(G*self.body_list[i].mass)/distance**2 #compute a\n",
    "                ax=ax+a*dx/distance #accumulate ax\n",
    "                ay=ay+a*dy/distance #accumulate ay\n",
    "        return (ax,ay)\n",
    "        \n",
    "    def draw(self, pixels_per_meter): #draw the body for every body in the system\n",
    "        for n in range(len(self.body_list)):\n",
    "            self.body_list[n].draw(pixels_per_meter)\n",
    "        \n",
    "    def update(self, timestep): #update the velocity and position for every body in the system\n",
    "        for n in range(len(self.body_list)):\n",
    "            acceleration=self.compute_acceleration(n) #get the value of ax,ay by calling compute_acceleration\n",
    "            self.body_list[n].update_velocity(acceleration[0], acceleration[1], timestep) \n",
    "            self.body_list[n].update_position(timestep) "
   ]
  },
  {
   "cell_type": "code",
   "execution_count": 3,
   "metadata": {},
   "outputs": [
    {
     "data": {
      "image/svg+xml": [
       "<?xml version=\"1.0\" encoding=\"UTF-8\"?>\n",
       "<svg xmlns=\"http://www.w3.org/2000/svg\" xmlns:xlink=\"http://www.w3.org/1999/xlink\"\n",
       "     width=\"600\" height=\"600\" viewBox=\"-300.0 -300.0 600 600\">\n",
       "<defs>\n",
       "</defs>\n",
       "<rect x=\"-300\" y=\"-300\" width=\"600\" height=\"600\" fill=\"black\" />\n",
       "<circle cx=\"-0.000509305974484433\" cy=\"-0.004961397164563777\" r=\"15\" fill=\"#ffff00\" />\n",
       "<circle cx=\"-42.782479727240116\" cy=\"-16.134764027560504\" r=\"3\" fill=\"#ff6600\" />\n",
       "<circle cx=\"70.11539978015216\" cy=\"52.888098335078794\" r=\"6\" fill=\"#009933\" />\n",
       "<circle cx=\"-119.35773759313567\" cy=\"13.633911387423302\" r=\"7\" fill=\"#0066ff\" />\n",
       "<circle cx=\"181.15047912684918\" cy=\"28.392573811523043\" r=\"4\" fill=\"#cc3300\" />\n",
       "</svg>"
      ],
      "text/plain": [
       "<drawSvg.drawing.Drawing at 0x7f89b4f549d0>"
      ]
     },
     "metadata": {},
     "output_type": "display_data"
    },
    {
     "ename": "KeyboardInterrupt",
     "evalue": "",
     "output_type": "error",
     "traceback": [
      "\u001b[0;31m---------------------------------------------------------------------------\u001b[0m",
      "\u001b[0;31mKeyboardInterrupt\u001b[0m                         Traceback (most recent call last)",
      "\u001b[0;32m<ipython-input-3-4770019eb623>\u001b[0m in \u001b[0;36m<module>\u001b[0;34m\u001b[0m\n\u001b[1;32m     27\u001b[0m         \u001b[0mD\u001b[0m \u001b[0;34m=\u001b[0m \u001b[0mdraw\u001b[0m\u001b[0;34m.\u001b[0m\u001b[0mDrawing\u001b[0m\u001b[0;34m(\u001b[0m\u001b[0;36m600\u001b[0m\u001b[0;34m,\u001b[0m \u001b[0;36m600\u001b[0m\u001b[0;34m,\u001b[0m \u001b[0morigin\u001b[0m\u001b[0;34m=\u001b[0m\u001b[0;34m'center'\u001b[0m\u001b[0;34m)\u001b[0m \u001b[0;31m# clear canvas\u001b[0m\u001b[0;34m\u001b[0m\u001b[0;34m\u001b[0m\u001b[0m\n\u001b[1;32m     28\u001b[0m         \u001b[0mD\u001b[0m\u001b[0;34m.\u001b[0m\u001b[0mappend\u001b[0m\u001b[0;34m(\u001b[0m \u001b[0mdraw\u001b[0m\u001b[0;34m.\u001b[0m\u001b[0mRectangle\u001b[0m\u001b[0;34m(\u001b[0m\u001b[0;34m-\u001b[0m\u001b[0;36m300\u001b[0m\u001b[0;34m,\u001b[0m\u001b[0;34m-\u001b[0m\u001b[0;36m300\u001b[0m\u001b[0;34m,\u001b[0m\u001b[0;36m600\u001b[0m\u001b[0;34m,\u001b[0m\u001b[0;36m600\u001b[0m\u001b[0;34m,\u001b[0m\u001b[0mfill\u001b[0m\u001b[0;34m=\u001b[0m\u001b[0;34m'black'\u001b[0m\u001b[0;34m)\u001b[0m\u001b[0;34m)\u001b[0m \u001b[0;31m# black background\u001b[0m\u001b[0;34m\u001b[0m\u001b[0;34m\u001b[0m\u001b[0m\n\u001b[0;32m---> 29\u001b[0;31m         \u001b[0manim\u001b[0m\u001b[0;34m.\u001b[0m\u001b[0mdraw_frame\u001b[0m\u001b[0;34m(\u001b[0m\u001b[0;34m)\u001b[0m\u001b[0;34m\u001b[0m\u001b[0;34m\u001b[0m\u001b[0m\n\u001b[0m",
      "\u001b[0;32m~/opt/anaconda3/lib/python3.7/site-packages/drawSvg/animation.py\u001b[0m in \u001b[0;36mdraw_frame\u001b[0;34m(self, *args, **kwargs)\u001b[0m\n\u001b[1;32m     20\u001b[0m     \u001b[0;32mdef\u001b[0m \u001b[0mdraw_frame\u001b[0m\u001b[0;34m(\u001b[0m\u001b[0mself\u001b[0m\u001b[0;34m,\u001b[0m \u001b[0;34m*\u001b[0m\u001b[0margs\u001b[0m\u001b[0;34m,\u001b[0m \u001b[0;34m**\u001b[0m\u001b[0mkwargs\u001b[0m\u001b[0;34m)\u001b[0m\u001b[0;34m:\u001b[0m\u001b[0;34m\u001b[0m\u001b[0;34m\u001b[0m\u001b[0m\n\u001b[1;32m     21\u001b[0m         \u001b[0mframe\u001b[0m \u001b[0;34m=\u001b[0m \u001b[0mself\u001b[0m\u001b[0;34m.\u001b[0m\u001b[0mdraw_func\u001b[0m\u001b[0;34m(\u001b[0m\u001b[0;34m*\u001b[0m\u001b[0margs\u001b[0m\u001b[0;34m,\u001b[0m \u001b[0;34m**\u001b[0m\u001b[0mkwargs\u001b[0m\u001b[0;34m)\u001b[0m\u001b[0;34m\u001b[0m\u001b[0;34m\u001b[0m\u001b[0m\n\u001b[0;32m---> 22\u001b[0;31m         \u001b[0mself\u001b[0m\u001b[0;34m.\u001b[0m\u001b[0mappend_frame\u001b[0m\u001b[0;34m(\u001b[0m\u001b[0mframe\u001b[0m\u001b[0;34m)\u001b[0m\u001b[0;34m\u001b[0m\u001b[0;34m\u001b[0m\u001b[0m\n\u001b[0m\u001b[1;32m     23\u001b[0m         \u001b[0;32mreturn\u001b[0m \u001b[0mframe\u001b[0m\u001b[0;34m\u001b[0m\u001b[0;34m\u001b[0m\u001b[0m\n\u001b[1;32m     24\u001b[0m \u001b[0;34m\u001b[0m\u001b[0m\n",
      "\u001b[0;32m~/opt/anaconda3/lib/python3.7/site-packages/drawSvg/animation.py\u001b[0m in \u001b[0;36mappend_frame\u001b[0;34m(self, frame)\u001b[0m\n\u001b[1;32m     16\u001b[0m     \u001b[0;32mdef\u001b[0m \u001b[0mappend_frame\u001b[0m\u001b[0;34m(\u001b[0m\u001b[0mself\u001b[0m\u001b[0;34m,\u001b[0m \u001b[0mframe\u001b[0m\u001b[0;34m)\u001b[0m\u001b[0;34m:\u001b[0m\u001b[0;34m\u001b[0m\u001b[0;34m\u001b[0m\u001b[0m\n\u001b[1;32m     17\u001b[0m         \u001b[0mself\u001b[0m\u001b[0;34m.\u001b[0m\u001b[0mframes\u001b[0m\u001b[0;34m.\u001b[0m\u001b[0mappend\u001b[0m\u001b[0;34m(\u001b[0m\u001b[0mframe\u001b[0m\u001b[0;34m)\u001b[0m\u001b[0;34m\u001b[0m\u001b[0;34m\u001b[0m\u001b[0m\n\u001b[0;32m---> 18\u001b[0;31m         \u001b[0mself\u001b[0m\u001b[0;34m.\u001b[0m\u001b[0mcallback\u001b[0m\u001b[0;34m(\u001b[0m\u001b[0mframe\u001b[0m\u001b[0;34m)\u001b[0m\u001b[0;34m\u001b[0m\u001b[0;34m\u001b[0m\u001b[0m\n\u001b[0m\u001b[1;32m     19\u001b[0m \u001b[0;34m\u001b[0m\u001b[0m\n\u001b[1;32m     20\u001b[0m     \u001b[0;32mdef\u001b[0m \u001b[0mdraw_frame\u001b[0m\u001b[0;34m(\u001b[0m\u001b[0mself\u001b[0m\u001b[0;34m,\u001b[0m \u001b[0;34m*\u001b[0m\u001b[0margs\u001b[0m\u001b[0;34m,\u001b[0m \u001b[0;34m**\u001b[0m\u001b[0mkwargs\u001b[0m\u001b[0;34m)\u001b[0m\u001b[0;34m:\u001b[0m\u001b[0;34m\u001b[0m\u001b[0;34m\u001b[0m\u001b[0m\n",
      "\u001b[0;32m~/opt/anaconda3/lib/python3.7/site-packages/drawSvg/animation.py\u001b[0m in \u001b[0;36mdraw_jupyter_frame\u001b[0;34m(self, frame)\u001b[0m\n\u001b[1;32m     59\u001b[0m             \u001b[0minput\u001b[0m\u001b[0;34m(\u001b[0m\u001b[0;34m'Next?'\u001b[0m\u001b[0;34m)\u001b[0m\u001b[0;34m\u001b[0m\u001b[0;34m\u001b[0m\u001b[0m\n\u001b[1;32m     60\u001b[0m         \u001b[0;32melif\u001b[0m \u001b[0mself\u001b[0m\u001b[0;34m.\u001b[0m\u001b[0mdelay\u001b[0m \u001b[0;34m!=\u001b[0m \u001b[0;36m0\u001b[0m\u001b[0;34m:\u001b[0m\u001b[0;34m\u001b[0m\u001b[0;34m\u001b[0m\u001b[0m\n\u001b[0;32m---> 61\u001b[0;31m             \u001b[0mtime\u001b[0m\u001b[0;34m.\u001b[0m\u001b[0msleep\u001b[0m\u001b[0;34m(\u001b[0m\u001b[0mself\u001b[0m\u001b[0;34m.\u001b[0m\u001b[0mdelay\u001b[0m\u001b[0;34m)\u001b[0m\u001b[0;34m\u001b[0m\u001b[0;34m\u001b[0m\u001b[0m\n\u001b[0m\u001b[1;32m     62\u001b[0m \u001b[0;34m\u001b[0m\u001b[0m\n\u001b[1;32m     63\u001b[0m     \u001b[0;32mdef\u001b[0m \u001b[0m__enter__\u001b[0m\u001b[0;34m(\u001b[0m\u001b[0mself\u001b[0m\u001b[0;34m)\u001b[0m\u001b[0;34m:\u001b[0m\u001b[0;34m\u001b[0m\u001b[0;34m\u001b[0m\u001b[0m\n",
      "\u001b[0;31mKeyboardInterrupt\u001b[0m: "
     ]
    }
   ],
   "source": [
    "AU = 1.49598e11 # number of meters per astronomical unit\n",
    "EM = 5.9736e24  # mass of the Earth in kilograms\n",
    "\n",
    "TIME_SCALE = 3.0e6              # how many real seconds for each second of simulation\n",
    "PIXELS_PER_METER = 120. / AU    # distance scale for the simulation\n",
    "\n",
    "FRAME_RATE = 30\n",
    "TIMESTEP = 1.0 / FRAME_RATE     # time between drawing each frame\n",
    "\n",
    "# Solar system data comes from\n",
    "#   http://hyperphysics.phy-astr.gsu.edu/hbase/solar/soldata2.html\n",
    "sun     = Body(1.98892e30, 0, 0, 0, 0, 15, 255, 255, 0)\n",
    "mercury = Body(.06 * EM, -.3871 * AU, 0, 0, 47890, 3, 255, 102, 0)\n",
    "venus   = Body(.82 * EM, -.7233 * AU, 0, 0, 35040, 6, 0, 153, 51)\n",
    "earth   = Body(1.0 * EM, -1.0 * AU, 0, 0, 29790, 7, 0, 102, 255)\n",
    "mars    = Body(.11 * EM, -1.524 * AU, 0, 0, 24140, 4, 204, 51, 0)\n",
    "    \n",
    "solar_system = System([sun, mercury, venus, earth, mars])\n",
    "\n",
    "def draw_frame():\n",
    "    solar_system.draw(PIXELS_PER_METER)\n",
    "    solar_system.update(TIMESTEP * TIME_SCALE)\n",
    "    return( D )\n",
    "\n",
    "with draw.animate_jupyter(draw_frame, delay=0.05) as anim:\n",
    "    while( True ):\n",
    "        D = draw.Drawing(600, 600, origin='center') # clear canvas\n",
    "        D.append( draw.Rectangle(-300,-300,600,600,fill='black')) # black background\n",
    "        anim.draw_frame()"
   ]
  },
  {
   "cell_type": "code",
   "execution_count": null,
   "metadata": {},
   "outputs": [],
   "source": []
  }
 ],
 "metadata": {
  "kernelspec": {
   "display_name": "Python 3",
   "language": "python",
   "name": "python3"
  },
  "language_info": {
   "codemirror_mode": {
    "name": "ipython",
    "version": 3
   },
   "file_extension": ".py",
   "mimetype": "text/x-python",
   "name": "python",
   "nbconvert_exporter": "python",
   "pygments_lexer": "ipython3",
   "version": "3.7.4"
  }
 },
 "nbformat": 4,
 "nbformat_minor": 2
}
