{
 "cells": [
  {
   "cell_type": "code",
   "execution_count": 4,
   "metadata": {},
   "outputs": [
    {
     "name": "stdout",
     "output_type": "stream",
     "text": [
      "Requirement already satisfied: drawSvg in ./opt/anaconda3/lib/python3.7/site-packages (1.6.1)\n",
      "Requirement already satisfied: numpy in ./opt/anaconda3/lib/python3.7/site-packages (from drawSvg) (1.17.2)\n",
      "Requirement already satisfied: imageio in ./opt/anaconda3/lib/python3.7/site-packages (from drawSvg) (2.6.0)\n",
      "Requirement already satisfied: cairoSVG in ./opt/anaconda3/lib/python3.7/site-packages (from drawSvg) (2.4.2)\n",
      "Requirement already satisfied: pillow in ./opt/anaconda3/lib/python3.7/site-packages (from imageio->drawSvg) (6.2.0)\n",
      "Requirement already satisfied: cssselect2 in ./opt/anaconda3/lib/python3.7/site-packages (from cairoSVG->drawSvg) (0.3.0)\n",
      "Requirement already satisfied: tinycss2 in ./opt/anaconda3/lib/python3.7/site-packages (from cairoSVG->drawSvg) (1.0.2)\n",
      "Requirement already satisfied: cairocffi in ./opt/anaconda3/lib/python3.7/site-packages (from cairoSVG->drawSvg) (1.1.0)\n",
      "Requirement already satisfied: defusedxml in ./opt/anaconda3/lib/python3.7/site-packages (from cairoSVG->drawSvg) (0.6.0)\n",
      "Requirement already satisfied: setuptools>=39.2.0 in ./opt/anaconda3/lib/python3.7/site-packages (from cssselect2->cairoSVG->drawSvg) (41.4.0)\n",
      "Requirement already satisfied: webencodings in ./opt/anaconda3/lib/python3.7/site-packages (from cssselect2->cairoSVG->drawSvg) (0.5.1)\n",
      "Requirement already satisfied: cffi>=1.1.0 in ./opt/anaconda3/lib/python3.7/site-packages (from cairocffi->cairoSVG->drawSvg) (1.12.3)\n",
      "Requirement already satisfied: pycparser in ./opt/anaconda3/lib/python3.7/site-packages (from cffi>=1.1.0->cairocffi->cairoSVG->drawSvg) (2.19)\n",
      "Note: you may need to restart the kernel to use updated packages.\n"
     ]
    }
   ],
   "source": [
    "pip install drawSvg"
   ]
  },
  {
   "cell_type": "code",
   "execution_count": 85,
   "metadata": {},
   "outputs": [
    {
     "name": "stdout",
     "output_type": "stream",
     "text": [
      "*     *\n",
      "**   * \n",
      "* * *  \n",
      "*  *\n",
      "* * *  \n",
      "**   * \n",
      "*     *\n"
     ]
    }
   ],
   "source": [
    "#logo containing my name XD by using print statement\n",
    "print(\"*     *\")\n",
    "print(\"**   * \")\n",
    "print(\"* * *  \")\n",
    "print(\"*  *\")\n",
    "print(\"* * *  \")\n",
    "print(\"**   * \")\n",
    "print(\"*     *\")"
   ]
  },
  {
   "cell_type": "code",
   "execution_count": 81,
   "metadata": {},
   "outputs": [
    {
     "data": {
      "image/svg+xml": [
       "<?xml version=\"1.0\" encoding=\"UTF-8\"?>\n",
       "<svg xmlns=\"http://www.w3.org/2000/svg\" xmlns:xlink=\"http://www.w3.org/1999/xlink\"\n",
       "     width=\"200\" height=\"200\" viewBox=\"-100.0 -100.0 200 200\">\n",
       "<defs>\n",
       "</defs>\n",
       "<path d=\"M-30,-38 L30,38\" stroke=\"royalblue\" stroke-width=\"3\" fill=\"none\" />\n",
       "<path d=\"M-30,38 L30,-38\" stroke=\"royalblue\" stroke-width=\"3\" fill=\"none\" />\n",
       "<path d=\"M30,-38 L30,38\" stroke=\"firebrick\" stroke-width=\"3\" fill=\"none\" />\n",
       "<circle cx=\"30\" cy=\"0\" r=\"38\" stroke-dasharray=\"119.38052083641213 119.38052083641213\" stroke-dashoffset=\"-179.0707812546182\" stroke=\"firebrick\" stroke-width=\"3\" fill=\"none\" />\n",
       "<text x=\"45\" y=\"50\" font-size=\"15\" fill=\"black\">Dan Xie</text>\n",
       "</svg>"
      ],
      "text/plain": [
       "<drawSvg.drawing.Drawing at 0x7feb85561550>"
      ]
     },
     "execution_count": 81,
     "metadata": {},
     "output_type": "execute_result"
    }
   ],
   "source": [
    "#logo containing my name by using draw statement\n",
    "import drawSvg as draw\n",
    "\n",
    "d = draw.Drawing(200, 200, origin='center')\n",
    "d.append(draw.Line(-30,38,30,-38,\n",
    "          stroke='royalblue',stroke_width=3,fill='none',)) # the first line of x\n",
    "d.append(draw.Line(-30,-38,30,38,\n",
    "          stroke='royalblue',stroke_width=3,fill='none')) # the second line of x\n",
    "d.append(draw.Line(30,38,30,-38,\n",
    "          stroke='firebrick',stroke_width=3,fill='none')) # the vertical line of D\n",
    "d.append(draw.ArcLine(30,0,38,270,90,\n",
    "          stroke='firebrick',stroke_width=3,fill='none')) #the arcline of D\n",
    "d.append(draw.Text('Dan Xie',15,45,-50,center=False,fill='black'))\n",
    "d"
   ]
  },
  {
   "cell_type": "code",
   "execution_count": 82,
   "metadata": {},
   "outputs": [
    {
     "data": {
      "image/svg+xml": [
       "<?xml version=\"1.0\" encoding=\"UTF-8\"?>\n",
       "<svg xmlns=\"http://www.w3.org/2000/svg\" xmlns:xlink=\"http://www.w3.org/1999/xlink\"\n",
       "     width=\"300\" height=\"300\" viewBox=\"-150.0 -150.0 300 300\">\n",
       "<defs>\n",
       "</defs>\n",
       "<circle cx=\"3\" cy=\"0\" r=\"100\" fill=\"royalblue\" />\n",
       "<rect x=\"-30\" y=\"0\" width=\"60\" height=\"20\" fill=\"white\" />\n",
       "<path d=\"M30,20 L35,0 L30,0 Z\" fill=\"white\" stroke=\"white\" />\n",
       "<path d=\"M-10,70 h20 l0,-100 h-20 Z\" stroke-width=\"2\" stroke=\"white\" fill=\"white\" />\n",
       "<circle cx=\"21\" cy=\"-30\" r=\"21\" stroke-dasharray=\"32.98672286269283 98.96016858807849\" stroke-dashoffset=\"-65.97344572538566\" stroke=\"white\" stroke-width=\"22\" fill=\"none\" />\n",
       "<rect x=\"20\" y=\"-62\" width=\"10\" height=\"22\" fill=\"white\" />\n",
       "</svg>"
      ],
      "text/plain": [
       "<drawSvg.drawing.Drawing at 0x7feb8556a590>"
      ]
     },
     "execution_count": 82,
     "metadata": {},
     "output_type": "execute_result"
    }
   ],
   "source": [
    "#logo of Facebook\n",
    "logo = draw.Drawing(300, 300, origin='center')\n",
    "logo.append(draw.Circle(3,0,100,fill='royalblue')) #background circle\n",
    "logo.append(draw.Rectangle(-30,-20,60,20,fill='white'))# horizontal line of f\n",
    "logo.append(draw.Lines(30,-20,35,0,30,0,close=True,fill='white',stroke='white'))\n",
    "p=draw.Path(stroke_width=2,stroke='white',fill='white')\n",
    "p.M(-10,-70)\n",
    "p.h(20)\n",
    "p.l(0,100)\n",
    "p.h(-20)\n",
    "p.Z()\n",
    "logo.append(p) #vertical line of f\n",
    "logo.append(draw.ArcLine(21,30,21,90,180,\n",
    "            stroke='white', stroke_width=22, fill='none')) #arcline of f\n",
    "logo.append(draw.Rectangle(20,40,10,22,fill='white')) #the extendsion of arcline\n",
    "\n",
    "logo"
   ]
  },
  {
   "cell_type": "code",
   "execution_count": null,
   "metadata": {},
   "outputs": [],
   "source": []
  }
 ],
 "metadata": {
  "kernelspec": {
   "display_name": "Python 3",
   "language": "python",
   "name": "python3"
  },
  "language_info": {
   "codemirror_mode": {
    "name": "ipython",
    "version": 3
   },
   "file_extension": ".py",
   "mimetype": "text/x-python",
   "name": "python",
   "nbconvert_exporter": "python",
   "pygments_lexer": "ipython3",
   "version": "3.7.4"
  }
 },
 "nbformat": 4,
 "nbformat_minor": 2
}
