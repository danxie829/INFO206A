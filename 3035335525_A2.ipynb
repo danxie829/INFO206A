{
 "cells": [
  {
   "cell_type": "code",
   "execution_count": null,
   "metadata": {},
   "outputs": [
    {
     "name": "stdout",
     "output_type": "stream",
     "text": [
      " You are taking a travel, do you prefer to go to a) a forest or b)an island?\n",
      "\n"
     ]
    }
   ],
   "source": [
    "# define a graph node\n",
    "class GraphNode:\n",
    "    def __init__(self, adjacent, data):\n",
    "        self.data = data\n",
    "        self.adjacent = adjacent\n",
    "        \n",
    "    def is_leaf(self):\n",
    "        return( len(self.adjacent) == 0 )\n",
    "        \n",
    "    def __str__(self):\n",
    "        return( self.data )\n",
    "      \n",
    "# parse each line of the story file\n",
    "def parse_line(line):\n",
    "    a=line.split(\"|\") #split the line by |\n",
    "    node_name=a[0] #the node in the line\n",
    "    adjacent_nodes=a[1].split(\",\") #an array of strings corresponding to the adjacent nodes\n",
    "    text=a[2] # a single string of the text in that line\n",
    "    \n",
    "    # add all except empty strings\n",
    "    adjacent = []\n",
    "    for a in adjacent_nodes:\n",
    "        if a:\n",
    "            adjacent.append(a.strip())\n",
    "\n",
    "    return( node_name, adjacent, text )\n",
    "\n",
    "# load the storty from the raw-text file     \n",
    "def load_story(filename):\n",
    "    node_dict = {}\n",
    "    file = open(filename, \"r\")    \n",
    "    for l in file:\n",
    "        # if this is a line in the correct format:\n",
    "        if len(l.split(\"|\")) == 3:\n",
    "            node_name, adjacent_nodes, text = parse_line(l)   \n",
    "            node = GraphNode(adjacent_nodes, text)\n",
    "            node_dict[node_name] = node\n",
    "\n",
    "    file.close()\n",
    "    return( node_dict )\n",
    "\n",
    "# play the game\n",
    "def play_story(story_dict):    \n",
    "    story_node = story_dict[\"START\"]\n",
    "    print(story_node)\n",
    "\n",
    "    while not story_node.is_leaf():\n",
    "        answer= input(\"Enter a or b:\")\n",
    "        choice=ord(answer)-97\n",
    "        story_node = story_dict[ story_node.adjacent[choice] ]\n",
    "        print(story_node)\n",
    "\n",
    "    print(\"THE END\")\n",
    "\n",
    "story_dict = load_story(\"3035335525_A2.txt\") # load story\n",
    "play_story(story_dict) # play the game\n"
   ]
  },
  {
   "cell_type": "code",
   "execution_count": null,
   "metadata": {},
   "outputs": [],
   "source": []
  }
 ],
 "metadata": {
  "kernelspec": {
   "display_name": "Python 3",
   "language": "python",
   "name": "python3"
  },
  "language_info": {
   "codemirror_mode": {
    "name": "ipython",
    "version": 3
   },
   "file_extension": ".py",
   "mimetype": "text/x-python",
   "name": "python",
   "nbconvert_exporter": "python",
   "pygments_lexer": "ipython3",
   "version": "3.7.4"
  }
 },
 "nbformat": 4,
 "nbformat_minor": 2
}
