{
 "cells": [
  {
   "cell_type": "code",
   "execution_count": 10,
   "metadata": {},
   "outputs": [],
   "source": [
    "#Q1\n",
    "def sum_even(X): #define the function\n",
    "    if len(X)==0:#if the list is empty, return 0\n",
    "        return 0\n",
    "    else:\n",
    "        if X[0]%2==0: #if the first element is an even number\n",
    "            return X[0]+sum_even(X[1:]) #add the value of the first element and recur with the rest of the list\n",
    "        else:\n",
    "            return sum_even(X[1:]) #if the first element is not an even number, skip it"
   ]
  },
  {
   "cell_type": "code",
   "execution_count": 11,
   "metadata": {},
   "outputs": [
    {
     "data": {
      "text/plain": [
       "20"
      ]
     },
     "execution_count": 11,
     "metadata": {},
     "output_type": "execute_result"
    }
   ],
   "source": [
    "sum_even([1,2,3,4,5,6,7,8]) #test with a list"
   ]
  },
  {
   "cell_type": "code",
   "execution_count": 15,
   "metadata": {},
   "outputs": [],
   "source": [
    "#Q2\n",
    "def is_palindrome(S): #define the function\n",
    "    if len(S)==0 or len(S)==1: #return True for a string of length 0 or 1 \n",
    "        return True\n",
    "    else:\n",
    "        i=0 #index of the first character in the string\n",
    "        j=len(S)-1-i #index of the last character in the string\n",
    "        return S[i]==S[j] and is_palindrome(S[1:j]) #the first and last characters should equal each other, then recur without these two characters\n",
    "    "
   ]
  },
  {
   "cell_type": "code",
   "execution_count": 16,
   "metadata": {},
   "outputs": [
    {
     "data": {
      "text/plain": [
       "False"
      ]
     },
     "execution_count": 16,
     "metadata": {},
     "output_type": "execute_result"
    }
   ],
   "source": [
    "is_palindrome(\"abcdecba\") #test with a string"
   ]
  },
  {
   "cell_type": "code",
   "execution_count": 17,
   "metadata": {},
   "outputs": [
    {
     "data": {
      "text/plain": [
       "True"
      ]
     },
     "execution_count": 17,
     "metadata": {},
     "output_type": "execute_result"
    }
   ],
   "source": [
    "is_palindrome(\"abcdcba\") #test with another string"
   ]
  },
  {
   "cell_type": "code",
   "execution_count": null,
   "metadata": {},
   "outputs": [],
   "source": []
  }
 ],
 "metadata": {
  "kernelspec": {
   "display_name": "Python 3",
   "language": "python",
   "name": "python3"
  },
  "language_info": {
   "codemirror_mode": {
    "name": "ipython",
    "version": 3
   },
   "file_extension": ".py",
   "mimetype": "text/x-python",
   "name": "python",
   "nbconvert_exporter": "python",
   "pygments_lexer": "ipython3",
   "version": "3.7.4"
  }
 },
 "nbformat": 4,
 "nbformat_minor": 2
}
