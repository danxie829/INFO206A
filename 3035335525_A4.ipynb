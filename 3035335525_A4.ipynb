{
 "cells": [
  {
   "cell_type": "code",
   "execution_count": null,
   "metadata": {},
   "outputs": [
    {
     "data": {
      "image/svg+xml": [
       "<?xml version=\"1.0\" encoding=\"UTF-8\"?>\n",
       "<svg xmlns=\"http://www.w3.org/2000/svg\" xmlns:xlink=\"http://www.w3.org/1999/xlink\"\n",
       "     width=\"200\" height=\"200\" viewBox=\"-100.0 -100.0 200 200\">\n",
       "<defs>\n",
       "</defs>\n",
       "<rect x=\"-100.0\" y=\"-100.0\" width=\"200\" height=\"200\" fill=\"black\" />\n",
       "<circle cx=\"60.095716713448205\" cy=\"31.369563711815186\" r=\"5\" fill=\"yellow\" />\n",
       "<circle cx=\"-18.4274120867965\" cy=\"59.98332550080192\" r=\"5\" fill=\"yellow\" />\n",
       "<circle cx=\"8.282194270807839\" cy=\"85.40385211493805\" r=\"5\" fill=\"yellow\" />\n",
       "<circle cx=\"13.948685162825804\" cy=\"-15.505824717541788\" r=\"5\" fill=\"yellow\" />\n",
       "<circle cx=\"95.9089074376015\" cy=\"57.75191687415831\" r=\"5\" fill=\"yellow\" />\n",
       "<circle cx=\"10.644285834693306\" cy=\"-84.35156572682212\" r=\"5\" fill=\"yellow\" />\n",
       "<circle cx=\"-66.45875174638158\" cy=\"51.45788923300505\" r=\"5\" fill=\"yellow\" />\n",
       "<circle cx=\"65.38760058166054\" cy=\"61.494225307622706\" r=\"5\" fill=\"yellow\" />\n",
       "<circle cx=\"-14.820818357040292\" cy=\"91.29691681178309\" r=\"5\" fill=\"yellow\" />\n",
       "<circle cx=\"23.31857723694381\" cy=\"58.65765820963435\" r=\"5\" fill=\"yellow\" />\n",
       "</svg>"
      ],
      "text/plain": [
       "<drawSvg.drawing.Drawing at 0x7fed80739950>"
      ]
     },
     "metadata": {},
     "output_type": "display_data"
    }
   ],
   "source": [
    "import drawSvg as draw\n",
    "import random \n",
    "import math\n",
    "import numpy as np\n",
    "\n",
    "#step 1:define variables\n",
    "window_x=200#define the width of drawing window\n",
    "window_y=200#define the height of drawing window\n",
    "num=10 #number of balls\n",
    "r=5 #define the radius\n",
    "timestep=1 #define timestep\n",
    "X=np.random.uniform(-100,100,num)#make a list for x\n",
    "Y=np.random.uniform(-100,100,num)#make a list for y\n",
    "Vx=np.random.uniform(-5,5,num)#make a list of Vx\n",
    "Vy=np.random.uniform(-5,5,num)#make a list for vy\n",
    "\n",
    "#step 2: define functions\n",
    "def update_position(i):\n",
    "    \n",
    "    if X[i]+r>window_x/2:\n",
    "        X[i]=window_x/2-r #update x-coordinate\n",
    "        Vx[i]= -Vx[i] #negate velocity\n",
    "        \n",
    "    if X[i]-r<-(window_x/2):\n",
    "        X[i]=-(window_x/2)+r #update x-coordinate\n",
    "        Vx[i]= -Vx[i] #negate velocity\n",
    "        \n",
    "    if Y[i]+r>window_y/2:\n",
    "        Y[i]=window_y/2-r #update y-coordinate\n",
    "        Vy[i]= -Vy[i] #negate velocity\n",
    "        \n",
    "    if Y[i]-r<-(window_y/2):\n",
    "        Y[i]=-(window_y/2)+r #update y-coordinate\n",
    "        Vy[i]= -Vy[i] #negate velocity\n",
    "        \n",
    "    X[i] = X[i] + timestep * (Vx[i]) #the core formula of x-coordinate\n",
    "    Y[i] = Y[i] + timestep * (Vy[i]) #the core formula of y-coordinate\n",
    "    \n",
    "    for j in range(0,num):\n",
    "        if j!=i and math.sqrt((X[i]-X[j])**2+(Y[i]-Y[j])**2)<=2*r:\n",
    "            Vx[i]=-Vx[i] #negate velocity of i\n",
    "            Vy[i]=-Vy[i] #negate velocity of i\n",
    "            \n",
    "            X[i] = X[i] + 1.2*timestep * Vx[i] #reupdate x-coordinate of i\n",
    "            Y[i] = Y[i] + 1.2*timestep * Vy[i] #reupdate y-coordinate of i\n",
    "            X[j] = X[j] + 1.2*timestep * Vx[j] #reupdate x-coordinate of j\n",
    "            Y[j] = Y[j] + 1.2*timestep * Vy[j] #reupdate y-coordinate of j\n",
    "\n",
    "def draw_ball(i):\n",
    "    D.append(draw.Circle(X[i],Y[i],r,fill='yellow')) #draw the ball\n",
    "\n",
    "def draw_frame():\n",
    "    for i in range(0,num):\n",
    "        update_position(i) #execute update_position for i\n",
    "        draw_ball(i) #execute draw_ball for i\n",
    "    return D\n",
    "\n",
    "#step 3: draw animation\n",
    "with draw.animate_jupyter(draw_frame, delay=0.05) as anim:\n",
    "    while( True ):\n",
    "        D = draw.Drawing(window_x, window_y, origin='center' ) # erase canvas\n",
    "        D.append(draw.Rectangle(-window_x/2,-window_y/2,window_x,window_y, fill='black'))\n",
    "        anim.draw_frame()    \n",
    "    \n"
   ]
  },
  {
   "cell_type": "code",
   "execution_count": null,
   "metadata": {},
   "outputs": [],
   "source": []
  }
 ],
 "metadata": {
  "kernelspec": {
   "display_name": "Python 3",
   "language": "python",
   "name": "python3"
  },
  "language_info": {
   "codemirror_mode": {
    "name": "ipython",
    "version": 3
   },
   "file_extension": ".py",
   "mimetype": "text/x-python",
   "name": "python",
   "nbconvert_exporter": "python",
   "pygments_lexer": "ipython3",
   "version": "3.7.4"
  }
 },
 "nbformat": 4,
 "nbformat_minor": 2
}
